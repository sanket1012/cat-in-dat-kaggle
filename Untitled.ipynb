{
 "cells": [
  {
   "cell_type": "code",
   "execution_count": 13,
   "metadata": {},
   "outputs": [],
   "source": [
    "import numpy as np\n",
    "import pandas as pd\n",
    "import matplotlib.pyplot as plt\n",
    "\n",
    "df_train = pd.DataFrame()\n",
    "df_train = pd.read_csv('../train.csv')\n",
    "df_test = pd.DataFrame()\n",
    "df_test = pd.read_csv('../test.csv')\n",
    "\n",
    "df_train.drop(['id','nom_5','nom_6','nom_7','nom_8','nom_9','month'], axis=1,inplace=True)\n",
    "df_test.drop(['id','nom_5','nom_6','nom_7','nom_8','nom_9','month'], axis=1,inplace=True)\n",
    "\n",
    "df_train['bin_3'] = (df_train['bin_3'] =='T').astype(int)\n",
    "df_train['bin_4'] = (df_train['bin_4'] =='Y').astype(int)\n",
    "\n",
    "df_test['bin_3'] = (df_test['bin_3'] =='T').astype(int)\n",
    "df_test['bin_4'] = (df_test['bin_4'] =='Y').astype(int)\n",
    "\n",
    "train_df = pd.get_dummies(df_train, columns=['nom_0','nom_1','nom_2','nom_3','nom_4','ord_0','ord_1','ord_2','ord_3','ord_4','ord_5','day'], drop_first=False, sparse=True)\n",
    "test_df = pd.get_dummies(df_test, columns=['nom_0','nom_1','nom_2','nom_3','nom_4','ord_0','ord_1','ord_2','ord_3','ord_4','ord_5','day'], drop_first=False, sparse=True)"
   ]
  },
  {
   "cell_type": "code",
   "execution_count": 12,
   "metadata": {},
   "outputs": [
    {
     "name": "stdout",
     "output_type": "stream",
     "text": [
      "id=300000\n",
      "bin_0=2\n",
      "bin_1=2\n",
      "bin_2=2\n",
      "bin_3=2\n",
      "bin_4=2\n",
      "nom_0=3\n",
      "nom_1=6\n",
      "nom_2=6\n",
      "nom_3=6\n",
      "nom_4=4\n",
      "nom_5=222\n",
      "nom_6=522\n",
      "nom_7=1220\n",
      "nom_8=2215\n",
      "nom_9=11981\n",
      "ord_0=3\n",
      "ord_1=5\n",
      "ord_2=6\n",
      "ord_3=15\n",
      "ord_4=26\n",
      "ord_5=192\n",
      "day=7\n",
      "month=12\n",
      "target=2\n"
     ]
    }
   ],
   "source": [
    "for k, v in df_train.nunique().to_dict().items():\n",
    "    print('{}={}'.format(k,v))"
   ]
  },
  {
   "cell_type": "code",
   "execution_count": 14,
   "metadata": {},
   "outputs": [],
   "source": [
    "# x=train_df.drop(['target'], axis=1)\n",
    "# y=train_df[['target']].copy()\n",
    "# print(x.shape)\n",
    "# print(y.shape)\n",
    "\n",
    "# from sklearn.model_selection import train_test_split\n",
    "# x_train, x_valid, y_train, y_valid = train_test_split(x, y, test_size=0.2, shuffle=True)\n",
    "\n",
    "# print(x_train.shape)\n",
    "# print(y_valid.shape)\n",
    "\n",
    "# x_test = np.array(test_df)\n",
    "# print(x_test.shape)"
   ]
  },
  {
   "cell_type": "code",
   "execution_count": 15,
   "metadata": {},
   "outputs": [],
   "source": [
    "# from keras import Sequential\n",
    "# from keras.layers import Dense\n",
    "\n",
    "# model = Sequential()\n",
    "# model.add(Dense(256, activation='relu', input_dim=277))\n",
    "# model.add(Dense(256, activation='relu'))\n",
    "# model.add(Dense(128, activation='relu'))\n",
    "# model.add(Dense(64, activation='relu'))\n",
    "# model.add(Dense(64, activation='relu'))\n",
    "# model.add(Dense(32, activation='relu'))\n",
    "# model.add(Dense(16, activation='relu'))\n",
    "# model.add(Dense(8, activation='relu'))\n",
    "# model.add(Dense(4, activation='relu'))\n",
    "# model.add(Dense(1, activation='sigmoid'))\n",
    "\n",
    "# model.compile(optimizer ='adam',loss='binary_crossentropy', metrics =['accuracy'])\n",
    "# model.summary()\n",
    "\n",
    "# model.fit(x_train,y_train, epochs=100, batch_size=256, validation_data=(x_valid,y_valid), verbose=1)"
   ]
  },
  {
   "cell_type": "code",
   "execution_count": 16,
   "metadata": {},
   "outputs": [
    {
     "name": "stdout",
     "output_type": "stream",
     "text": [
      "(300000, 284)\n",
      "(300000, 1)\n",
      "(240000, 284)\n",
      "(60000, 1)\n",
      "(200000, 284)\n"
     ]
    }
   ],
   "source": [
    "x=train_df.drop(['target'], axis=1)\n",
    "y=train_df[['target']].copy()\n",
    "print(x.shape)\n",
    "print(y.shape)\n",
    "\n",
    "x_train = np.array(x[:int(300000*0.8)])\n",
    "y_train = np.array(y[:int(300000*0.8)])\n",
    "x_valid = np.array(x[int(300000*0.8):])\n",
    "y_valid = np.array(y[int(300000*0.8):])\n",
    "print(x_train.shape)\n",
    "print(y_valid.shape)\n",
    "\n",
    "x_test = np.array(test_df)\n",
    "print(x_test.shape)"
   ]
  },
  {
   "cell_type": "code",
   "execution_count": 17,
   "metadata": {},
   "outputs": [
    {
     "name": "stderr",
     "output_type": "stream",
     "text": [
      "C:\\Users\\sanket.waghmare\\AppData\\Local\\Continuum\\anaconda3\\lib\\site-packages\\sklearn\\linear_model\\logistic.py:432: FutureWarning: Default solver will be changed to 'lbfgs' in 0.22. Specify a solver to silence this warning.\n",
      "  FutureWarning)\n",
      "C:\\Users\\sanket.waghmare\\AppData\\Local\\Continuum\\anaconda3\\lib\\site-packages\\sklearn\\utils\\validation.py:724: DataConversionWarning: A column-vector y was passed when a 1d array was expected. Please change the shape of y to (n_samples, ), for example using ravel().\n",
      "  y = column_or_1d(y, warn=True)\n"
     ]
    },
    {
     "name": "stdout",
     "output_type": "stream",
     "text": [
      "0.7415541666666666\n",
      "0.7411833333333333\n",
      "0.7619140672553767\n",
      "0.7586295043887095\n",
      "0.74148\n"
     ]
    }
   ],
   "source": [
    "from sklearn import tree\n",
    "from sklearn.linear_model import LogisticRegression\n",
    "\n",
    "clf = LogisticRegression(C=2.783)\n",
    "clf = clf.fit(x_train, y_train)\n",
    "print(clf.score(x_train, y_train))\n",
    "print(clf.score(x_valid, y_valid))\n",
    "\n",
    "pred = clf.predict(x_test)\n",
    "\n",
    "from sklearn.metrics import roc_auc_score\n",
    "lr_pred =clf.predict_proba(x_train)[:, 1]\n",
    "score = roc_auc_score(y_train, lr_pred)\n",
    "print(score)\n",
    "\n",
    "valid_pred =clf.predict_proba(x_valid)[:, 1]\n",
    "score = roc_auc_score(y_valid, valid_pred)\n",
    "print(score)\n",
    "\n",
    "print(clf.score(np.array(x),np.array(y)))"
   ]
  },
  {
   "cell_type": "code",
   "execution_count": null,
   "metadata": {},
   "outputs": [],
   "source": [
    "df_test = pd.read_csv('../test.csv')\n",
    "\n",
    "pred =clf.predict_proba(x_test)[:, 1]\n",
    "\n",
    "submission = pd.DataFrame({'id': df_test['id'], 'target': pred})\n",
    "submission.to_csv('submission3.csv', index=False)"
   ]
  }
 ],
 "metadata": {
  "kernelspec": {
   "display_name": "Python 3",
   "language": "python",
   "name": "python3"
  },
  "language_info": {
   "codemirror_mode": {
    "name": "ipython",
    "version": 3
   },
   "file_extension": ".py",
   "mimetype": "text/x-python",
   "name": "python",
   "nbconvert_exporter": "python",
   "pygments_lexer": "ipython3",
   "version": "3.7.3"
  }
 },
 "nbformat": 4,
 "nbformat_minor": 2
}
